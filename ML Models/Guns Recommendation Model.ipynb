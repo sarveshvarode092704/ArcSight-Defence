{
 "cells": [
  {
   "cell_type": "markdown",
   "id": "c048e86b-08ee-48eb-97d9-f7393fe0cef7",
   "metadata": {},
   "source": [
    "## Importing the Libraries"
   ]
  },
  {
   "cell_type": "code",
   "execution_count": null,
   "id": "4c359b45-b9da-464e-bbc5-cad7b7ca5956",
   "metadata": {},
   "outputs": [],
   "source": [
    "import pandas as pd\n",
    "import numpy as np\n",
    "from sklearn.preprocessing import StandardScaler, OneHotEncoder\n",
    "import pickle"
   ]
  },
  {
   "cell_type": "markdown",
   "id": "6220c7df-5370-43e7-92ee-07039ae89415",
   "metadata": {},
   "source": [
    "## Importing the Dataset"
   ]
  },
  {
   "cell_type": "code",
   "execution_count": null,
   "id": "f132e5b5-752b-4f20-b983-daef98d06ebb",
   "metadata": {},
   "outputs": [],
   "source": [
    "# Load the dataset\n",
    "data_path = 'Complete_Guns_Dataset_Full.csv'\n",
    "df = pd.read_csv(data_path)"
   ]
  },
  {
   "cell_type": "markdown",
   "id": "9654e16c-9bf1-440b-8670-ed116d34c48a",
   "metadata": {},
   "source": [
    "## Selecting the Relevent Features"
   ]
  },
  {
   "cell_type": "code",
   "execution_count": null,
   "id": "ebe59635-3ea1-40ac-b6de-69c739afe4ce",
   "metadata": {},
   "outputs": [],
   "source": [
    "# Select relevant features for modeling\n",
    "features = ['Type', 'Caliber', 'Barrel Length (mm)', 'Effective Range (m)', \n",
    "            'Magazine Capacity', 'Weight (kg)', 'Action Type', 'Price (INR)']"
   ]
  },
  {
   "cell_type": "markdown",
   "id": "d38bc256-f277-4ed7-8e6c-281bfaab3a46",
   "metadata": {},
   "source": [
    "## Conversion of Data"
   ]
  },
  {
   "cell_type": "code",
   "execution_count": null,
   "id": "534d53b3-61ef-4614-bc64-4ebb55df3dcc",
   "metadata": {},
   "outputs": [],
   "source": [
    "# Preprocess the data\n",
    "categorical_features = ['Type', 'Caliber', 'Magazine Capacity', 'Action Type']\n",
    "numerical_features = ['Barrel Length (mm)', 'Effective Range (m)', 'Weight (kg)', 'Price (INR)']"
   ]
  },
  {
   "cell_type": "markdown",
   "id": "db81bcb7-374a-480c-a6f5-a50ac636edb5",
   "metadata": {},
   "source": [
    "## Encoding the Features"
   ]
  },
  {
   "cell_type": "code",
   "execution_count": null,
   "id": "5b90de38-160d-4f84-bbb0-214c8fc2d4d2",
   "metadata": {},
   "outputs": [],
   "source": [
    "# Encode categorical features\n",
    "encoder = OneHotEncoder(sparse_output=False, handle_unknown='ignore')\n",
    "encoded_categorical = encoder.fit_transform(df[categorical_features])"
   ]
  },
  {
   "cell_type": "markdown",
   "id": "90cfecb9-7d40-44a7-9ed2-7a902ee1f752",
   "metadata": {},
   "source": [
    "## Scaling and Data Transformation"
   ]
  },
  {
   "cell_type": "code",
   "execution_count": null,
   "id": "efab366f-e3d9-4c7e-97ca-c6730eecb31d",
   "metadata": {},
   "outputs": [],
   "source": [
    "# Scale numerical features\n",
    "scaler = StandardScaler()\n",
    "scaled_numerical = scaler.fit_transform(df[numerical_features])"
   ]
  },
  {
   "cell_type": "markdown",
   "id": "16369432-024b-4447-92b9-a80f97f1c2bd",
   "metadata": {},
   "source": [
    "## Building the Recommendation Model"
   ]
  },
  {
   "cell_type": "code",
   "execution_count": null,
   "id": "89d2d993-3421-4de8-9acb-bab000cf37c2",
   "metadata": {},
   "outputs": [],
   "source": [
    "# Define the recommendation function\n",
    "def recommend_guns(user_input):\n",
    "    \"\"\"Recommend top 5 guns based on user input.\"\"\"\n",
    "    \n",
    "    # Ensure user input is passed with the same column names as the original dataset\n",
    "    user_input_df = pd.DataFrame([user_input], columns=categorical_features + numerical_features)\n",
    "    \n",
    "    # Extract and encode categorical features from user input\n",
    "    user_categorical_values = user_input_df[categorical_features].values.flatten()\n",
    "    encoded_input = encoder.transform([user_categorical_values])[0]\n",
    "    \n",
    "    # Extract and scale numerical features from user input\n",
    "    numerical_input = user_input_df[numerical_features].values\n",
    "    scaled_numerical_input = scaler.transform(numerical_input).flatten()\n",
    "    \n",
    "    # Combine processed input features\n",
    "    final_input = np.hstack((encoded_input, scaled_numerical_input))\n",
    "\n",
    "    # Calculate similarity (using cosine similarity)\n",
    "    similarity_scores = np.dot(processed_df, final_input) / (\n",
    "        np.linalg.norm(processed_df, axis=1) * np.linalg.norm(final_input)\n",
    "    )\n",
    "\n",
    "    # Get top 5 recommendations based on the highest similarity scores\n",
    "    top_5_indices = np.argsort(similarity_scores)[-5:][::-1]\n",
    "    recommendations = df.iloc[top_5_indices]\n",
    "\n",
    "    return recommendations"
   ]
  },
  {
   "cell_type": "markdown",
   "id": "1c6702ec-2d51-4a76-9022-66881866f74f",
   "metadata": {},
   "source": [
    "## Testing the Model"
   ]
  },
  {
   "cell_type": "code",
   "execution_count": null,
   "id": "2e12e69b-523c-4218-8e1d-638c7de5a281",
   "metadata": {},
   "outputs": [
    {
     "name": "stdout",
     "output_type": "stream",
     "text": [
      "Top 5 Recommended Guns:\n",
      "\n",
      "Gun 1:\n",
      "  Weapon ID: 7\n",
      "  Name: AKM\n",
      "  Type: Assault Rifle\n",
      "  Manufacturer/Brand: Izhevsk Mechanical Plant\n",
      "  Caliber: 7.62×39mm\n",
      "  Barrel Length (mm): 415\n",
      "  Effective Range (m): 400\n",
      "  Magazine Capacity: 30\n",
      "  Weight (kg): 3.1\n",
      "  Material: Steel\n",
      "  Action Type: Gas-operated\n",
      "  Usage: Military/Defense\n",
      "  Introduced Year: 1959\n",
      "  Price (INR): 170000\n",
      "  Popularity: High\n",
      "  Legal Restrictions: Restricted in certain countries\n",
      "\n",
      "Gun 2:\n",
      "  Weapon ID: 2\n",
      "  Name: AK-47\n",
      "  Type: Assault Rifle\n",
      "  Manufacturer/Brand: Kalashnikov Concern, Russia\n",
      "  Caliber: 7.62×39mm\n",
      "  Barrel Length (mm): 415\n",
      "  Effective Range (m): 350\n",
      "  Magazine Capacity: 30\n",
      "  Weight (kg): 3.47\n",
      "  Material: Steel and wood\n",
      "  Action Type: Gas-operated, rotating bolt\n",
      "  Usage: Widely used by military forces worldwide\n",
      "  Introduced Year: 1949\n",
      "  Price (INR): 50000\n",
      "  Popularity: Extremely high globally\n",
      "  Legal Restrictions: Restricted or prohibited in many countries\n",
      "\n",
      "Gun 3:\n",
      "  Weapon ID: 3\n",
      "  Name: AK-56\n",
      "  Type: Assault Rifle\n",
      "  Manufacturer/Brand: Norinco, China\n",
      "  Caliber: 7.62×39mm\n",
      "  Barrel Length (mm): 415\n",
      "  Effective Range (m): 300\n",
      "  Magazine Capacity: 30\n",
      "  Weight (kg): 3.8\n",
      "  Material: Steel and wood\n",
      "  Action Type: Gas-operated, rotating bolt\n",
      "  Usage: Used by various military and insurgent groups\n",
      "  Introduced Year: 1956\n",
      "  Price (INR): 45000\n",
      "  Popularity: High in regions with Chinese military influence\n",
      "  Legal Restrictions: Restricted or prohibited in many countries\n",
      "\n",
      "Gun 4:\n",
      "  Weapon ID: 32\n",
      "  Name: VZ 58\n",
      "  Type: Assault Rifle\n",
      "  Manufacturer/Brand: Czech Small Arms\n",
      "  Caliber: 7.62×39mm\n",
      "  Barrel Length (mm): 450\n",
      "  Effective Range (m): 400\n",
      "  Magazine Capacity: 30\n",
      "  Weight (kg): 3.1\n",
      "  Material: Steel\n",
      "  Action Type:  Gas-operated\n",
      "  Usage:  Military/Defense\n",
      "  Introduced Year:  1958\n",
      "  Price (INR): 160000\n",
      "  Popularity:  Moderate\n",
      "  Legal Restrictions:  Restricted in certain countries\n",
      "\n",
      "Gun 5:\n",
      "  Weapon ID: 104\n",
      "  Name: Zastava M84\n",
      "  Type: Assault Rifle\n",
      "  Manufacturer/Brand: Zastava Arms\n",
      "  Caliber: 7.62mm\n",
      "  Barrel Length (mm): 420\n",
      "  Effective Range (m): 400\n",
      "  Magazine Capacity: 30\n",
      "  Weight (kg): 3.8\n",
      "  Material: Steel/Wood\n",
      "  Action Type: Gas-operated\n",
      "  Usage: Military\n",
      "  Introduced Year: 1984\n",
      "  Price (INR): 650000\n",
      "  Popularity: Medium\n",
      "  Legal Restrictions: Restricted\n",
      "\n"
     ]
    },
    {
     "name": "stderr",
     "output_type": "stream",
     "text": [
      "C:\\Users\\Survesh\\AppData\\Local\\Programs\\Python\\Python312\\Lib\\site-packages\\sklearn\\utils\\validation.py:2739: UserWarning: X does not have valid feature names, but OneHotEncoder was fitted with feature names\n",
      "  warnings.warn(\n",
      "C:\\Users\\Survesh\\AppData\\Local\\Programs\\Python\\Python312\\Lib\\site-packages\\sklearn\\utils\\validation.py:2739: UserWarning: X does not have valid feature names, but StandardScaler was fitted with feature names\n",
      "  warnings.warn(\n"
     ]
    }
   ],
   "source": [
    "# Example user input\n",
    "user_input = {\n",
    "    'Type': 'Assault Rifle',\n",
    "    'Caliber': '7.62×39mm',\n",
    "    'Barrel Length (mm)': 415,\n",
    "    'Effective Range (m)': 400,\n",
    "    'Magazine Capacity': '30',\n",
    "    'Weight (kg)': 3.6,\n",
    "    'Action Type': 'Gas-operated',\n",
    "    'Price (INR)': 70000\n",
    "}\n",
    "\n",
    "# Get recommendations\n",
    "recommendations = recommend_guns(user_input)\n",
    "print(\"Top 5 Recommended Guns:\\n\")\n",
    "\n",
    "# Print the recommendations in ascending order (Gun 1, Gun 2, … Gun 5)\n",
    "for rank, (_, row) in enumerate(recommendations.iterrows(), start=1):\n",
    "    print(f\"Gun {rank}:\")\n",
    "    for col in df.columns:\n",
    "        print(f\"  {col}: {row[col]}\")\n",
    "    print()"
   ]
  },
  {
   "cell_type": "markdown",
   "id": "d513fd25-2d44-4993-a78f-cf61c05bec91",
   "metadata": {},
   "source": [
    "## Pickle the Model"
   ]
  },
  {
   "cell_type": "code",
   "execution_count": 2,
   "id": "96fa5d26-15bd-496d-b2c4-74cecfdfd9ff",
   "metadata": {},
   "outputs": [
    {
     "name": "stdout",
     "output_type": "stream",
     "text": [
      "Model has been pickled successfully!\n"
     ]
    }
   ],
   "source": [
    "# Create a dictionary to store all necessary components of the model\n",
    "model = {\n",
    "    'df': df,\n",
    "    'encoder': encoder,\n",
    "    'scaler': scaler,\n",
    "    'processed_df': processed_df,\n",
    "    'categorical_features': categorical_features,\n",
    "    'numerical_features': numerical_features\n",
    "}\n",
    "\n",
    "# Pickle (serialize) the model to a file\n",
    "with open('gun_recommendation_model.pkl', 'wb') as file:\n",
    "    pickle.dump(model, file)\n",
    "\n",
    "print(\"Model has been pickled successfully!\")\n"
   ]
  }
 ],
 "metadata": {
  "kernelspec": {
   "display_name": "Python 3 (ipykernel)",
   "language": "python",
   "name": "python3"
  },
  "language_info": {
   "codemirror_mode": {
    "name": "ipython",
    "version": 3
   },
   "file_extension": ".py",
   "mimetype": "text/x-python",
   "name": "python",
   "nbconvert_exporter": "python",
   "pygments_lexer": "ipython3",
   "version": "3.12.3"
  }
 },
 "nbformat": 4,
 "nbformat_minor": 5
}
